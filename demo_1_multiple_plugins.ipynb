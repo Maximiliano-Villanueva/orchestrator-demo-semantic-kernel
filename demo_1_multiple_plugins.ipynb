{
 "cells": [
  {
   "cell_type": "code",
   "execution_count": 1,
   "metadata": {},
   "outputs": [
    {
     "name": "stdout",
     "output_type": "stream",
     "text": [
      "Requirement already satisfied: semantic-kernel in /home/mvillanueva/.pyenv/versions/3.11.5/envs/sk_demo_env/lib/python3.11/site-packages (0.9.5b1)\n",
      "Requirement already satisfied: aiohttp<4.0,>=3.8 in /home/mvillanueva/.pyenv/versions/3.11.5/envs/sk_demo_env/lib/python3.11/site-packages (from semantic-kernel) (3.9.3)\n",
      "Requirement already satisfied: defusedxml<0.8.0,>=0.7.1 in /home/mvillanueva/.pyenv/versions/3.11.5/envs/sk_demo_env/lib/python3.11/site-packages (from semantic-kernel) (0.7.1)\n",
      "Requirement already satisfied: grpcio>=1.50.0 in /home/mvillanueva/.pyenv/versions/3.11.5/envs/sk_demo_env/lib/python3.11/site-packages (from semantic-kernel) (1.62.1)\n",
      "Requirement already satisfied: jinja2<4.0.0,>=3.1.3 in /home/mvillanueva/.pyenv/versions/3.11.5/envs/sk_demo_env/lib/python3.11/site-packages (from semantic-kernel) (3.1.3)\n",
      "Requirement already satisfied: motor<4.0.0,>=3.3.2 in /home/mvillanueva/.pyenv/versions/3.11.5/envs/sk_demo_env/lib/python3.11/site-packages (from semantic-kernel) (3.3.2)\n",
      "Requirement already satisfied: nest-asyncio<2.0.0,>=1.6.0 in /home/mvillanueva/.pyenv/versions/3.11.5/envs/sk_demo_env/lib/python3.11/site-packages (from semantic-kernel) (1.6.0)\n",
      "Requirement already satisfied: numpy>=1.25 in /home/mvillanueva/.pyenv/versions/3.11.5/envs/sk_demo_env/lib/python3.11/site-packages (from semantic-kernel) (1.26.4)\n",
      "Requirement already satisfied: openai>=1.0 in /home/mvillanueva/.pyenv/versions/3.11.5/envs/sk_demo_env/lib/python3.11/site-packages (from semantic-kernel) (1.14.1)\n",
      "Requirement already satisfied: openapi_core<0.20,>=0.18 in /home/mvillanueva/.pyenv/versions/3.11.5/envs/sk_demo_env/lib/python3.11/site-packages (from semantic-kernel) (0.19.0)\n",
      "Requirement already satisfied: prance<24.0.0.0,>=23.6.21.0 in /home/mvillanueva/.pyenv/versions/3.11.5/envs/sk_demo_env/lib/python3.11/site-packages (from semantic-kernel) (23.6.21.0)\n",
      "Requirement already satisfied: pybars4<0.10.0,>=0.9.13 in /home/mvillanueva/.pyenv/versions/3.11.5/envs/sk_demo_env/lib/python3.11/site-packages (from semantic-kernel) (0.9.13)\n",
      "Requirement already satisfied: pydantic<3,>=2 in /home/mvillanueva/.pyenv/versions/3.11.5/envs/sk_demo_env/lib/python3.11/site-packages (from semantic-kernel) (2.6.4)\n",
      "Requirement already satisfied: python-dotenv<2.0.0,>=1.0.1 in /home/mvillanueva/.pyenv/versions/3.11.5/envs/sk_demo_env/lib/python3.11/site-packages (from semantic-kernel) (1.0.1)\n",
      "Requirement already satisfied: regex<2024.0.0,>=2023.6.3 in /home/mvillanueva/.pyenv/versions/3.11.5/envs/sk_demo_env/lib/python3.11/site-packages (from semantic-kernel) (2023.12.25)\n",
      "Requirement already satisfied: scipy>=1.5.0 in /home/mvillanueva/.pyenv/versions/3.11.5/envs/sk_demo_env/lib/python3.11/site-packages (from semantic-kernel) (1.12.0)\n",
      "Requirement already satisfied: aiosignal>=1.1.2 in /home/mvillanueva/.pyenv/versions/3.11.5/envs/sk_demo_env/lib/python3.11/site-packages (from aiohttp<4.0,>=3.8->semantic-kernel) (1.3.1)\n",
      "Requirement already satisfied: attrs>=17.3.0 in /home/mvillanueva/.pyenv/versions/3.11.5/envs/sk_demo_env/lib/python3.11/site-packages (from aiohttp<4.0,>=3.8->semantic-kernel) (23.2.0)\n",
      "Requirement already satisfied: frozenlist>=1.1.1 in /home/mvillanueva/.pyenv/versions/3.11.5/envs/sk_demo_env/lib/python3.11/site-packages (from aiohttp<4.0,>=3.8->semantic-kernel) (1.4.1)\n",
      "Requirement already satisfied: multidict<7.0,>=4.5 in /home/mvillanueva/.pyenv/versions/3.11.5/envs/sk_demo_env/lib/python3.11/site-packages (from aiohttp<4.0,>=3.8->semantic-kernel) (6.0.5)\n",
      "Requirement already satisfied: yarl<2.0,>=1.0 in /home/mvillanueva/.pyenv/versions/3.11.5/envs/sk_demo_env/lib/python3.11/site-packages (from aiohttp<4.0,>=3.8->semantic-kernel) (1.9.4)\n",
      "Requirement already satisfied: MarkupSafe>=2.0 in /home/mvillanueva/.pyenv/versions/3.11.5/envs/sk_demo_env/lib/python3.11/site-packages (from jinja2<4.0.0,>=3.1.3->semantic-kernel) (2.1.5)\n",
      "Requirement already satisfied: pymongo<5,>=4.5 in /home/mvillanueva/.pyenv/versions/3.11.5/envs/sk_demo_env/lib/python3.11/site-packages (from motor<4.0.0,>=3.3.2->semantic-kernel) (4.6.2)\n",
      "Requirement already satisfied: anyio<5,>=3.5.0 in /home/mvillanueva/.pyenv/versions/3.11.5/envs/sk_demo_env/lib/python3.11/site-packages (from openai>=1.0->semantic-kernel) (4.3.0)\n",
      "Requirement already satisfied: distro<2,>=1.7.0 in /home/mvillanueva/.pyenv/versions/3.11.5/envs/sk_demo_env/lib/python3.11/site-packages (from openai>=1.0->semantic-kernel) (1.9.0)\n",
      "Requirement already satisfied: httpx<1,>=0.23.0 in /home/mvillanueva/.pyenv/versions/3.11.5/envs/sk_demo_env/lib/python3.11/site-packages (from openai>=1.0->semantic-kernel) (0.27.0)\n",
      "Requirement already satisfied: sniffio in /home/mvillanueva/.pyenv/versions/3.11.5/envs/sk_demo_env/lib/python3.11/site-packages (from openai>=1.0->semantic-kernel) (1.3.1)\n",
      "Requirement already satisfied: tqdm>4 in /home/mvillanueva/.pyenv/versions/3.11.5/envs/sk_demo_env/lib/python3.11/site-packages (from openai>=1.0->semantic-kernel) (4.66.2)\n",
      "Requirement already satisfied: typing-extensions<5,>=4.7 in /home/mvillanueva/.pyenv/versions/3.11.5/envs/sk_demo_env/lib/python3.11/site-packages (from openai>=1.0->semantic-kernel) (4.10.0)\n",
      "Requirement already satisfied: isodate in /home/mvillanueva/.pyenv/versions/3.11.5/envs/sk_demo_env/lib/python3.11/site-packages (from openapi_core<0.20,>=0.18->semantic-kernel) (0.6.1)\n",
      "Requirement already satisfied: jsonschema<5.0.0,>=4.18.0 in /home/mvillanueva/.pyenv/versions/3.11.5/envs/sk_demo_env/lib/python3.11/site-packages (from openapi_core<0.20,>=0.18->semantic-kernel) (4.21.1)\n",
      "Requirement already satisfied: jsonschema-path<0.4.0,>=0.3.1 in /home/mvillanueva/.pyenv/versions/3.11.5/envs/sk_demo_env/lib/python3.11/site-packages (from openapi_core<0.20,>=0.18->semantic-kernel) (0.3.2)\n",
      "Requirement already satisfied: more-itertools in /home/mvillanueva/.pyenv/versions/3.11.5/envs/sk_demo_env/lib/python3.11/site-packages (from openapi_core<0.20,>=0.18->semantic-kernel) (10.2.0)\n",
      "Requirement already satisfied: openapi-schema-validator<0.7.0,>=0.6.0 in /home/mvillanueva/.pyenv/versions/3.11.5/envs/sk_demo_env/lib/python3.11/site-packages (from openapi_core<0.20,>=0.18->semantic-kernel) (0.6.2)\n",
      "Requirement already satisfied: openapi-spec-validator<0.8.0,>=0.7.1 in /home/mvillanueva/.pyenv/versions/3.11.5/envs/sk_demo_env/lib/python3.11/site-packages (from openapi_core<0.20,>=0.18->semantic-kernel) (0.7.1)\n",
      "Requirement already satisfied: parse in /home/mvillanueva/.pyenv/versions/3.11.5/envs/sk_demo_env/lib/python3.11/site-packages (from openapi_core<0.20,>=0.18->semantic-kernel) (1.20.1)\n",
      "Requirement already satisfied: werkzeug in /home/mvillanueva/.pyenv/versions/3.11.5/envs/sk_demo_env/lib/python3.11/site-packages (from openapi_core<0.20,>=0.18->semantic-kernel) (3.0.1)\n",
      "Requirement already satisfied: chardet>=3.0 in /home/mvillanueva/.pyenv/versions/3.11.5/envs/sk_demo_env/lib/python3.11/site-packages (from prance<24.0.0.0,>=23.6.21.0->semantic-kernel) (5.2.0)\n",
      "Requirement already satisfied: ruamel.yaml>=0.17.10 in /home/mvillanueva/.pyenv/versions/3.11.5/envs/sk_demo_env/lib/python3.11/site-packages (from prance<24.0.0.0,>=23.6.21.0->semantic-kernel) (0.18.6)\n",
      "Requirement already satisfied: requests>=2.25 in /home/mvillanueva/.pyenv/versions/3.11.5/envs/sk_demo_env/lib/python3.11/site-packages (from prance<24.0.0.0,>=23.6.21.0->semantic-kernel) (2.31.0)\n",
      "Requirement already satisfied: six~=1.15 in /home/mvillanueva/.pyenv/versions/3.11.5/envs/sk_demo_env/lib/python3.11/site-packages (from prance<24.0.0.0,>=23.6.21.0->semantic-kernel) (1.16.0)\n",
      "Requirement already satisfied: packaging>=21.3 in /home/mvillanueva/.pyenv/versions/3.11.5/envs/sk_demo_env/lib/python3.11/site-packages (from prance<24.0.0.0,>=23.6.21.0->semantic-kernel) (24.0)\n",
      "Requirement already satisfied: PyMeta3>=0.5.1 in /home/mvillanueva/.pyenv/versions/3.11.5/envs/sk_demo_env/lib/python3.11/site-packages (from pybars4<0.10.0,>=0.9.13->semantic-kernel) (0.5.1)\n",
      "Requirement already satisfied: annotated-types>=0.4.0 in /home/mvillanueva/.pyenv/versions/3.11.5/envs/sk_demo_env/lib/python3.11/site-packages (from pydantic<3,>=2->semantic-kernel) (0.6.0)\n",
      "Requirement already satisfied: pydantic-core==2.16.3 in /home/mvillanueva/.pyenv/versions/3.11.5/envs/sk_demo_env/lib/python3.11/site-packages (from pydantic<3,>=2->semantic-kernel) (2.16.3)\n",
      "Requirement already satisfied: idna>=2.8 in /home/mvillanueva/.pyenv/versions/3.11.5/envs/sk_demo_env/lib/python3.11/site-packages (from anyio<5,>=3.5.0->openai>=1.0->semantic-kernel) (3.6)\n",
      "Requirement already satisfied: certifi in /home/mvillanueva/.pyenv/versions/3.11.5/envs/sk_demo_env/lib/python3.11/site-packages (from httpx<1,>=0.23.0->openai>=1.0->semantic-kernel) (2024.2.2)\n",
      "Requirement already satisfied: httpcore==1.* in /home/mvillanueva/.pyenv/versions/3.11.5/envs/sk_demo_env/lib/python3.11/site-packages (from httpx<1,>=0.23.0->openai>=1.0->semantic-kernel) (1.0.4)\n",
      "Requirement already satisfied: h11<0.15,>=0.13 in /home/mvillanueva/.pyenv/versions/3.11.5/envs/sk_demo_env/lib/python3.11/site-packages (from httpcore==1.*->httpx<1,>=0.23.0->openai>=1.0->semantic-kernel) (0.14.0)\n",
      "Requirement already satisfied: jsonschema-specifications>=2023.03.6 in /home/mvillanueva/.pyenv/versions/3.11.5/envs/sk_demo_env/lib/python3.11/site-packages (from jsonschema<5.0.0,>=4.18.0->openapi_core<0.20,>=0.18->semantic-kernel) (2023.12.1)\n",
      "Requirement already satisfied: referencing>=0.28.4 in /home/mvillanueva/.pyenv/versions/3.11.5/envs/sk_demo_env/lib/python3.11/site-packages (from jsonschema<5.0.0,>=4.18.0->openapi_core<0.20,>=0.18->semantic-kernel) (0.31.1)\n",
      "Requirement already satisfied: rpds-py>=0.7.1 in /home/mvillanueva/.pyenv/versions/3.11.5/envs/sk_demo_env/lib/python3.11/site-packages (from jsonschema<5.0.0,>=4.18.0->openapi_core<0.20,>=0.18->semantic-kernel) (0.18.0)\n",
      "Requirement already satisfied: PyYAML>=5.1 in /home/mvillanueva/.pyenv/versions/3.11.5/envs/sk_demo_env/lib/python3.11/site-packages (from jsonschema-path<0.4.0,>=0.3.1->openapi_core<0.20,>=0.18->semantic-kernel) (6.0.1)\n",
      "Requirement already satisfied: pathable<0.5.0,>=0.4.1 in /home/mvillanueva/.pyenv/versions/3.11.5/envs/sk_demo_env/lib/python3.11/site-packages (from jsonschema-path<0.4.0,>=0.3.1->openapi_core<0.20,>=0.18->semantic-kernel) (0.4.3)\n",
      "Requirement already satisfied: rfc3339-validator in /home/mvillanueva/.pyenv/versions/3.11.5/envs/sk_demo_env/lib/python3.11/site-packages (from openapi-schema-validator<0.7.0,>=0.6.0->openapi_core<0.20,>=0.18->semantic-kernel) (0.1.4)\n",
      "Requirement already satisfied: lazy-object-proxy<2.0.0,>=1.7.1 in /home/mvillanueva/.pyenv/versions/3.11.5/envs/sk_demo_env/lib/python3.11/site-packages (from openapi-spec-validator<0.8.0,>=0.7.1->openapi_core<0.20,>=0.18->semantic-kernel) (1.10.0)\n",
      "Requirement already satisfied: dnspython<3.0.0,>=1.16.0 in /home/mvillanueva/.pyenv/versions/3.11.5/envs/sk_demo_env/lib/python3.11/site-packages (from pymongo<5,>=4.5->motor<4.0.0,>=3.3.2->semantic-kernel) (2.6.1)\n",
      "Requirement already satisfied: charset-normalizer<4,>=2 in /home/mvillanueva/.pyenv/versions/3.11.5/envs/sk_demo_env/lib/python3.11/site-packages (from requests>=2.25->prance<24.0.0.0,>=23.6.21.0->semantic-kernel) (3.3.2)\n",
      "Requirement already satisfied: urllib3<3,>=1.21.1 in /home/mvillanueva/.pyenv/versions/3.11.5/envs/sk_demo_env/lib/python3.11/site-packages (from requests>=2.25->prance<24.0.0.0,>=23.6.21.0->semantic-kernel) (2.2.1)\n",
      "Requirement already satisfied: ruamel.yaml.clib>=0.2.7 in /home/mvillanueva/.pyenv/versions/3.11.5/envs/sk_demo_env/lib/python3.11/site-packages (from ruamel.yaml>=0.17.10->prance<24.0.0.0,>=23.6.21.0->semantic-kernel) (0.2.8)\n",
      "\n",
      "\u001b[1m[\u001b[0m\u001b[34;49mnotice\u001b[0m\u001b[1;39;49m]\u001b[0m\u001b[39;49m A new release of pip is available: \u001b[0m\u001b[31;49m23.2.1\u001b[0m\u001b[39;49m -> \u001b[0m\u001b[32;49m24.0\u001b[0m\n",
      "\u001b[1m[\u001b[0m\u001b[34;49mnotice\u001b[0m\u001b[1;39;49m]\u001b[0m\u001b[39;49m To update, run: \u001b[0m\u001b[32;49mpip install --upgrade pip\u001b[0m\n"
     ]
    }
   ],
   "source": [
    "!pip install semantic-kernel"
   ]
  },
  {
   "cell_type": "markdown",
   "metadata": {},
   "source": [
    "# Semantic Kernel orchestation demo for multiple step plans\n",
    "\n",
    "This demo is meant to provide insights on how the native functions can be used as plugins for semantic kernel.\n",
    "There are two plugins:\n",
    "    - ServiceDesk: A ticketing service plugin useful to retrieve information about incidences.\n",
    "    - Invoices DB: A DB plugin to retrieve and execute read/write operations on invoices.\n",
    "\n",
    "The questions used are the following:\n",
    "    - lista las incidencias wifi\n",
    "    - lista todas las facturas del usuario con id 5\n",
    "    - Actualiza la siguiente factura: {id=1, test=True, user_id=5}\n",
    "\n",
    "Each input should use a different function.\n",
    "\n",
    "The orchestation is performed by semantic kernel by leveraging the loaded plugins and a Custom Planner is used in order to determine the steps required to answer a given question. After that the plans generated are executed."
   ]
  },
  {
   "cell_type": "markdown",
   "metadata": {},
   "source": [
    "### imports"
   ]
  },
  {
   "cell_type": "code",
   "execution_count": 2,
   "metadata": {},
   "outputs": [],
   "source": [
    "import os\n",
    "from typing import List\n",
    "\n",
    "import semantic_kernel as sk\n",
    "from utils.custom_planner import CustomBasicPlanner\n",
    "from utils.input_model import Question\n",
    "from semantic_kernel.planners import BasicPlanner\n",
    "\n",
    "from semantic_kernel.planners.basic_planner import Plan\n",
    "import utils.sk_utils as sk_utils"
   ]
  },
  {
   "cell_type": "markdown",
   "metadata": {},
   "source": [
    "### Generate dummy data in Question format\n",
    "Generate a variety of questions requiring from 1 to 2 steps in a plan."
   ]
  },
  {
   "cell_type": "code",
   "execution_count": 3,
   "metadata": {},
   "outputs": [],
   "source": [
    "def get_dummy_input() -> List[Question]:\n",
    "    json_data = {\n",
    "        \"user_id\": 7,\n",
    "        \"message_id\": 7,\n",
    "        \"chat_id\": 4,\n",
    "        \"domain_id\": 0,\n",
    "        \"question\": \"lista las incidencias wifi\",\n",
    "        \"plugins\": [{\n",
    "            \"name\": \"ServiceDesk\",\n",
    "            \"url\": \"http://localhost:9001/query\",\n",
    "            \"configuration\":{\n",
    "                \"url\": \"https://cosuitg.sothis.tech/api/v3\",\n",
    "                \"token\": \"67325F3F-A481-44B7-8AEA-C69AF3337882\"\n",
    "            }\n",
    "        }]\n",
    "    }\n",
    "\n",
    "    # Create an instance of the Question model using the JSON data\n",
    "    questions = [Question(**json_data)]\n",
    "    \n",
    "    json_data[\"question\"] = \"lista todas las facturas del usuario con id 5\"\n",
    "    questions.append(Question(**json_data))\n",
    "\n",
    "    json_data[\"question\"] = \"Actualiza la siguiente factura: {id=1, test=True, user_id=5}\"\n",
    "    questions.append(Question(**json_data))\n",
    "\n",
    "    json_data[\"question\"] = \"General question\"\n",
    "    questions.append(Question(**json_data))\n",
    "\n",
    "    json_data[\"question\"] = \"Tell me some facts about the most populated city in the world.\"\n",
    "    questions.append(Question(**json_data))\n",
    "\n",
    "    return questions"
   ]
  },
  {
   "cell_type": "markdown",
   "metadata": {},
   "source": [
    "### Instantiate the kernel, load the plugins and create the planner"
   ]
  },
  {
   "cell_type": "code",
   "execution_count": 4,
   "metadata": {},
   "outputs": [],
   "source": [
    "# Initialize the kernel\n",
    "kernel = sk_utils.get_kernel_router()\n",
    "\n",
    "# Import plugins\n",
    "plugins = sk_utils.load_plugins(kernel=kernel)\n",
    "\n",
    "planner = CustomBasicPlanner(service_id=\"planner\")# BasicPlanner(service_id=\"planner\")\n"
   ]
  },
  {
   "cell_type": "markdown",
   "metadata": {},
   "source": [
    "### Create and run questions\n",
    "Run simple questions to access one single plugin. The last question requires 2 plugins so it's a two step plan."
   ]
  },
  {
   "cell_type": "code",
   "execution_count": 5,
   "metadata": {},
   "outputs": [
    {
     "name": "stderr",
     "output_type": "stream",
     "text": [
      "Overwriting function \"CreatePlan\" in collection\n"
     ]
    },
    {
     "name": "stdout",
     "output_type": "stream",
     "text": [
      "-------------------------------\n",
      "\n",
      "\n",
      "Question: lista las incidencias wifi\n",
      "Plan results:\n",
      "requested list of incidences with question: user_id=7 message_id=7 chat_id=4 domain_id=0 question='lista las incidencias wifi' plugins=[Plugin(name='ServiceDesk', url='http://localhost:9001/query', configuration={'url': 'https://cosuitg.sothis.tech/api/v3', 'token': '67325F3F-A481-44B7-8AEA-C69AF3337882'})]\n",
      "-------------------------------\n",
      "\n",
      "\n"
     ]
    },
    {
     "name": "stderr",
     "output_type": "stream",
     "text": [
      "Overwriting function \"CreatePlan\" in collection\n"
     ]
    },
    {
     "name": "stdout",
     "output_type": "stream",
     "text": [
      "-------------------------------\n",
      "\n",
      "\n",
      "Question: lista todas las facturas del usuario con id 5\n",
      "Plan results:\n",
      "requested invoices with question: user_id=7 message_id=7 chat_id=4 domain_id=0 question='lista todas las facturas del usuario con id 5' plugins=[Plugin(name='ServiceDesk', url='http://localhost:9001/query', configuration={'url': 'https://cosuitg.sothis.tech/api/v3', 'token': '67325F3F-A481-44B7-8AEA-C69AF3337882'})]\n",
      "-------------------------------\n",
      "\n",
      "\n"
     ]
    },
    {
     "name": "stderr",
     "output_type": "stream",
     "text": [
      "Overwriting function \"CreatePlan\" in collection\n"
     ]
    },
    {
     "name": "stdout",
     "output_type": "stream",
     "text": [
      "-------------------------------\n",
      "\n",
      "\n",
      "Question: Actualiza la siguiente factura: {id=1, test=True, user_id=5}\n",
      "Plan results:\n",
      "requested write operations on invoices with question: user_id=7 message_id=7 chat_id=4 domain_id=0 question='Actualiza la siguiente factura: {id=1, test=True, user_id=5}' plugins=[Plugin(name='ServiceDesk', url='http://localhost:9001/query', configuration={'url': 'https://cosuitg.sothis.tech/api/v3', 'token': '67325F3F-A481-44B7-8AEA-C69AF3337882'})]\n",
      "-------------------------------\n",
      "\n",
      "\n"
     ]
    },
    {
     "name": "stderr",
     "output_type": "stream",
     "text": [
      "Overwriting function \"CreatePlan\" in collection\n"
     ]
    },
    {
     "name": "stdout",
     "output_type": "stream",
     "text": [
      "-------------------------------\n",
      "\n",
      "\n",
      "Question: General question\n",
      "Plan results:\n",
      "requested rag with question: user_id=7 message_id=7 chat_id=4 domain_id=0 question='General question' plugins=[Plugin(name='ServiceDesk', url='http://localhost:9001/query', configuration={'url': 'https://cosuitg.sothis.tech/api/v3', 'token': '67325F3F-A481-44B7-8AEA-C69AF3337882'})] It is the capital and largest city of the autonomous community of Catalonia\n",
      "-------------------------------\n",
      "\n",
      "\n",
      "requesting cities with filter {'population': 'max(population)'}\n",
      "-------------------------------\n",
      "\n",
      "\n",
      "Question: Tell me some facts about the most populated city in the world.\n",
      "Plan results:\n",
      "requested rag with question: user_id=7 message_id=7 chat_id=4 domain_id=0 question='Tell me some facts about the most populated city in the world.' plugins=[Plugin(name='ServiceDesk', url='http://localhost:9001/query', configuration={'url': 'https://cosuitg.sothis.tech/api/v3', 'token': '67325F3F-A481-44B7-8AEA-C69AF3337882'})] It is the capital and largest city of the autonomous community of Catalonia\n",
      "-------------------------------\n",
      "\n",
      "\n"
     ]
    }
   ],
   "source": [
    "questions = get_dummy_input()\n",
    "\n",
    "for question in questions:\n",
    "    # Create a plan\n",
    "    # plan: Plan = await planner.create_plan(question.question)\n",
    "    plan: Plan = await planner.create_plan(question.question, kernel=kernel)\n",
    "\n",
    "    # modify object passed \n",
    "    # Execute the plan\n",
    "    result = await planner.execute_plan(plan, kernel, question)\n",
    "    print(\"-------------------------------\\n\\n\")\n",
    "    print(f\"Question: {question.question}\")\n",
    "    print(\"Plan results:\")\n",
    "    print(result)\n",
    "    print(\"-------------------------------\\n\\n\")"
   ]
  }
 ],
 "metadata": {
  "kernelspec": {
   "display_name": "Python 3",
   "language": "python",
   "name": "python3"
  },
  "language_info": {
   "codemirror_mode": {
    "name": "ipython",
    "version": 3
   },
   "file_extension": ".py",
   "mimetype": "text/x-python",
   "name": "python",
   "nbconvert_exporter": "python",
   "pygments_lexer": "ipython3",
   "version": "3.11.5"
  }
 },
 "nbformat": 4,
 "nbformat_minor": 2
}
